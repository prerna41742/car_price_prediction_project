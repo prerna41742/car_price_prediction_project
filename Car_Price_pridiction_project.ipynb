{
 "cells": [
  {
   "cell_type": "code",
   "execution_count": 8,
   "id": "712d1bb5",
   "metadata": {},
   "outputs": [],
   "source": [
    "#Importing the dataset\n",
    "import numpy as np\n",
    "import pandas as pd\n",
    "import seaborn as sns\n",
    "import matplotlib.pyplot as plt\n",
    "import sklearn\n",
    "from sklearn.ensemble import RandomForestRegressor\n",
    "from sklearn.ensemble import AdaBoostRegressor\n",
    "from sklearn.ensemble import GradientBoostingRegressor\n",
    "from sklearn.tree import DecisionTreeRegressor\n",
    "from sklearn.neighbors import KNeighborsRegressor\n",
    "from sklearn.linear_model import LinearRegression\n",
    "from sklearn.metrics import mean_squared_error\n",
    "from sklearn.metrics import r2_score\n",
    "from sklearn.model_selection import train_test_split\n",
    "from scipy.stats import zscore\n",
    "import warnings\n",
    "warnings.filterwarnings('ignore')"
   ]
  },
  {
   "cell_type": "code",
   "execution_count": 10,
   "id": "f2c1def2",
   "metadata": {},
   "outputs": [],
   "source": [
    "df=pd.read_excel('car P_Price_.xlsx')"
   ]
  },
  {
   "cell_type": "code",
   "execution_count": 11,
   "id": "d00ae716",
   "metadata": {},
   "outputs": [
    {
     "data": {
      "text/html": [
       "<div>\n",
       "<style scoped>\n",
       "    .dataframe tbody tr th:only-of-type {\n",
       "        vertical-align: middle;\n",
       "    }\n",
       "\n",
       "    .dataframe tbody tr th {\n",
       "        vertical-align: top;\n",
       "    }\n",
       "\n",
       "    .dataframe thead th {\n",
       "        text-align: right;\n",
       "    }\n",
       "</style>\n",
       "<table border=\"1\" class=\"dataframe\">\n",
       "  <thead>\n",
       "    <tr style=\"text-align: right;\">\n",
       "      <th></th>\n",
       "      <th>Model(used car)</th>\n",
       "      <th>Km driven</th>\n",
       "      <th>Fuel</th>\n",
       "      <th>year of purchase</th>\n",
       "      <th>Location</th>\n",
       "      <th>Price</th>\n",
       "    </tr>\n",
       "  </thead>\n",
       "  <tbody>\n",
       "    <tr>\n",
       "      <th>0</th>\n",
       "      <td>'BMW 3 Series 320d, 2011, Diesel',</td>\n",
       "      <td>88000</td>\n",
       "      <td>Diesel</td>\n",
       "      <td>2011</td>\n",
       "      <td>'ANDHERI EAST, MUMBAI',</td>\n",
       "      <td>695000</td>\n",
       "    </tr>\n",
       "    <tr>\n",
       "      <th>1</th>\n",
       "      <td>'BMW 3 Series 320d Sedan, 2010, Diesel',</td>\n",
       "      <td>120000</td>\n",
       "      <td>Diesel</td>\n",
       "      <td>2010</td>\n",
       "      <td>'GOREGAON EAST, MUMBAI',</td>\n",
       "      <td>545000</td>\n",
       "    </tr>\n",
       "    <tr>\n",
       "      <th>2</th>\n",
       "      <td>'BMW 3 Series 320d, 2011, Diesel',</td>\n",
       "      <td>88000</td>\n",
       "      <td>Diesel</td>\n",
       "      <td>2011</td>\n",
       "      <td>'THANE WEST, THANE',</td>\n",
       "      <td>695000</td>\n",
       "    </tr>\n",
       "    <tr>\n",
       "      <th>3</th>\n",
       "      <td>'Audi A6 35 TDI, 2007, Diesel',</td>\n",
       "      <td>62000</td>\n",
       "      <td>Diesel</td>\n",
       "      <td>2007</td>\n",
       "      <td>'THANE BELAPUR ROAD, THANE',</td>\n",
       "      <td>549000</td>\n",
       "    </tr>\n",
       "    <tr>\n",
       "      <th>4</th>\n",
       "      <td>'BMW 530d Diesel',</td>\n",
       "      <td>96000</td>\n",
       "      <td>Diesel</td>\n",
       "      <td>2008</td>\n",
       "      <td>'ANDHERI EAST, MUMBAI',</td>\n",
       "      <td>620000</td>\n",
       "    </tr>\n",
       "  </tbody>\n",
       "</table>\n",
       "</div>"
      ],
      "text/plain": [
       "                                   Model(used car)         Km driven     Fuel  \\\n",
       "0               'BMW 3 Series 320d, 2011, Diesel',             88000   Diesel   \n",
       "1         'BMW 3 Series 320d Sedan, 2010, Diesel',            120000   Diesel   \n",
       "2               'BMW 3 Series 320d, 2011, Diesel',             88000   Diesel   \n",
       "3                  'Audi A6 35 TDI, 2007, Diesel',             62000   Diesel   \n",
       "4                               'BMW 530d Diesel',             96000   Diesel   \n",
       "\n",
       "      year of purchase                            Location              Price  \n",
       "0                 2011             'ANDHERI EAST, MUMBAI',             695000  \n",
       "1                 2010            'GOREGAON EAST, MUMBAI',             545000  \n",
       "2                 2011                'THANE WEST, THANE',             695000  \n",
       "3                 2007        'THANE BELAPUR ROAD, THANE',             549000  \n",
       "4                 2008             'ANDHERI EAST, MUMBAI',             620000  "
      ]
     },
     "execution_count": 11,
     "metadata": {},
     "output_type": "execute_result"
    }
   ],
   "source": [
    "df.head()"
   ]
  },
  {
   "cell_type": "code",
   "execution_count": 12,
   "id": "37a1eaf4",
   "metadata": {},
   "outputs": [
    {
     "data": {
      "text/plain": [
       "Index(['                                 Model(used car)', '       Km driven',\n",
       "       '    Fuel', '   year of purchase',\n",
       "       '                           Location', '            Price'],\n",
       "      dtype='object')"
      ]
     },
     "execution_count": 12,
     "metadata": {},
     "output_type": "execute_result"
    }
   ],
   "source": [
    "df.columns"
   ]
  },
  {
   "cell_type": "code",
   "execution_count": 13,
   "id": "2ba0222b",
   "metadata": {},
   "outputs": [
    {
     "name": "stdout",
     "output_type": "stream",
     "text": [
      "<class 'pandas.core.frame.DataFrame'>\n",
      "RangeIndex: 37 entries, 0 to 36\n",
      "Data columns (total 6 columns):\n",
      " #   Column                                            Non-Null Count  Dtype \n",
      "---  ------                                            --------------  ----- \n",
      " 0                                    Model(used car)  37 non-null     object\n",
      " 1          Km driven                                  37 non-null     int64 \n",
      " 2       Fuel                                          28 non-null     object\n",
      " 3      year of purchase                               37 non-null     int64 \n",
      " 4                              Location               37 non-null     object\n",
      " 5               Price                                 37 non-null     int64 \n",
      "dtypes: int64(3), object(3)\n",
      "memory usage: 1.9+ KB\n"
     ]
    }
   ],
   "source": [
    "df.info()"
   ]
  },
  {
   "cell_type": "code",
   "execution_count": 14,
   "id": "28eee5f1",
   "metadata": {},
   "outputs": [
    {
     "data": {
      "text/plain": [
       "                                 Model(used car)    0\n",
       "       Km driven                                    0\n",
       "    Fuel                                            9\n",
       "   year of purchase                                 0\n",
       "                           Location                 0\n",
       "            Price                                   0\n",
       "dtype: int64"
      ]
     },
     "execution_count": 14,
     "metadata": {},
     "output_type": "execute_result"
    }
   ],
   "source": [
    "df.isnull().sum()"
   ]
  },
  {
   "cell_type": "code",
   "execution_count": 15,
   "id": "679a080c",
   "metadata": {},
   "outputs": [
    {
     "data": {
      "text/plain": [
       "(37, 6)"
      ]
     },
     "execution_count": 15,
     "metadata": {},
     "output_type": "execute_result"
    }
   ],
   "source": [
    "df.shape"
   ]
  },
  {
   "cell_type": "code",
   "execution_count": 16,
   "id": "654249c0",
   "metadata": {},
   "outputs": [
    {
     "data": {
      "text/plain": [
       "Diesel    19\n",
       "Petrol     9\n",
       "Name:     Fuel, dtype: int64"
      ]
     },
     "execution_count": 16,
     "metadata": {},
     "output_type": "execute_result"
    }
   ],
   "source": [
    "#Analysing data of the column 'Fuel'\n",
    "df['    Fuel'].value_counts()"
   ]
  },
  {
   "cell_type": "code",
   "execution_count": 17,
   "id": "0ddec6b7",
   "metadata": {},
   "outputs": [],
   "source": [
    "#Removing the null values from the column 'Fuel'\n",
    "#replace the values with mode\n",
    "\n",
    "from sklearn.impute import SimpleImputer\n",
    "imp=SimpleImputer(strategy=\"most_frequent\")\n",
    "df['    Fuel']=imp.fit_transform(df['    Fuel'].values.reshape(-1,1))"
   ]
  },
  {
   "cell_type": "code",
   "execution_count": 18,
   "id": "04ff0de4",
   "metadata": {},
   "outputs": [
    {
     "data": {
      "text/plain": [
       "                                 Model(used car)    0\n",
       "       Km driven                                    0\n",
       "    Fuel                                            0\n",
       "   year of purchase                                 0\n",
       "                           Location                 0\n",
       "            Price                                   0\n",
       "dtype: int64"
      ]
     },
     "execution_count": 18,
     "metadata": {},
     "output_type": "execute_result"
    }
   ],
   "source": [
    "df.isnull().sum()"
   ]
  },
  {
   "cell_type": "markdown",
   "id": "a0bebde9",
   "metadata": {},
   "source": [
    "Now there are no null values present.\n",
    "\n",
    "Now,we will encode the columns so that we can convert the object olumns into numeric.\n",
    "\n",
    "We will go with Label Encoding"
   ]
  },
  {
   "cell_type": "code",
   "execution_count": 19,
   "id": "0c8544af",
   "metadata": {},
   "outputs": [],
   "source": [
    "#Label Encoder\n",
    "from sklearn.preprocessing import LabelEncoder\n",
    "\n",
    "le = LabelEncoder()\n",
    "df['                                 Model(used car)'] = le.fit_transform(df['                                 Model(used car)'])\n",
    "df['    Fuel'] = le.fit_transform(df['    Fuel'])\n",
    "df['                           Location'] = le.fit_transform(df['                           Location'])"
   ]
  },
  {
   "cell_type": "code",
   "execution_count": 20,
   "id": "24507d9c",
   "metadata": {},
   "outputs": [
    {
     "data": {
      "text/html": [
       "<div>\n",
       "<style scoped>\n",
       "    .dataframe tbody tr th:only-of-type {\n",
       "        vertical-align: middle;\n",
       "    }\n",
       "\n",
       "    .dataframe tbody tr th {\n",
       "        vertical-align: top;\n",
       "    }\n",
       "\n",
       "    .dataframe thead th {\n",
       "        text-align: right;\n",
       "    }\n",
       "</style>\n",
       "<table border=\"1\" class=\"dataframe\">\n",
       "  <thead>\n",
       "    <tr style=\"text-align: right;\">\n",
       "      <th></th>\n",
       "      <th>Model(used car)</th>\n",
       "      <th>Km driven</th>\n",
       "      <th>Fuel</th>\n",
       "      <th>year of purchase</th>\n",
       "      <th>Location</th>\n",
       "      <th>Price</th>\n",
       "    </tr>\n",
       "  </thead>\n",
       "  <tbody>\n",
       "    <tr>\n",
       "      <th>0</th>\n",
       "      <td>33</td>\n",
       "      <td>88000</td>\n",
       "      <td>0</td>\n",
       "      <td>2011</td>\n",
       "      <td>23</td>\n",
       "      <td>695000</td>\n",
       "    </tr>\n",
       "    <tr>\n",
       "      <th>1</th>\n",
       "      <td>9</td>\n",
       "      <td>120000</td>\n",
       "      <td>0</td>\n",
       "      <td>2010</td>\n",
       "      <td>7</td>\n",
       "      <td>545000</td>\n",
       "    </tr>\n",
       "    <tr>\n",
       "      <th>2</th>\n",
       "      <td>10</td>\n",
       "      <td>88000</td>\n",
       "      <td>0</td>\n",
       "      <td>2011</td>\n",
       "      <td>19</td>\n",
       "      <td>695000</td>\n",
       "    </tr>\n",
       "    <tr>\n",
       "      <th>3</th>\n",
       "      <td>8</td>\n",
       "      <td>62000</td>\n",
       "      <td>0</td>\n",
       "      <td>2007</td>\n",
       "      <td>18</td>\n",
       "      <td>549000</td>\n",
       "    </tr>\n",
       "    <tr>\n",
       "      <th>4</th>\n",
       "      <td>11</td>\n",
       "      <td>96000</td>\n",
       "      <td>0</td>\n",
       "      <td>2008</td>\n",
       "      <td>2</td>\n",
       "      <td>620000</td>\n",
       "    </tr>\n",
       "  </tbody>\n",
       "</table>\n",
       "</div>"
      ],
      "text/plain": [
       "                                    Model(used car)         Km driven  \\\n",
       "0                                                33             88000   \n",
       "1                                                 9            120000   \n",
       "2                                                10             88000   \n",
       "3                                                 8             62000   \n",
       "4                                                11             96000   \n",
       "\n",
       "       Fuel     year of purchase                             Location  \\\n",
       "0         0                 2011                                   23   \n",
       "1         0                 2010                                    7   \n",
       "2         0                 2011                                   19   \n",
       "3         0                 2007                                   18   \n",
       "4         0                 2008                                    2   \n",
       "\n",
       "               Price  \n",
       "0             695000  \n",
       "1             545000  \n",
       "2             695000  \n",
       "3             549000  \n",
       "4             620000  "
      ]
     },
     "execution_count": 20,
     "metadata": {},
     "output_type": "execute_result"
    }
   ],
   "source": [
    "df.head()"
   ]
  },
  {
   "cell_type": "markdown",
   "id": "033a6457",
   "metadata": {},
   "source": [
    "Now my data is ready foe machine learning"
   ]
  },
  {
   "cell_type": "code",
   "execution_count": 21,
   "id": "450d3551",
   "metadata": {},
   "outputs": [
    {
     "data": {
      "text/html": [
       "<div>\n",
       "<style scoped>\n",
       "    .dataframe tbody tr th:only-of-type {\n",
       "        vertical-align: middle;\n",
       "    }\n",
       "\n",
       "    .dataframe tbody tr th {\n",
       "        vertical-align: top;\n",
       "    }\n",
       "\n",
       "    .dataframe thead th {\n",
       "        text-align: right;\n",
       "    }\n",
       "</style>\n",
       "<table border=\"1\" class=\"dataframe\">\n",
       "  <thead>\n",
       "    <tr style=\"text-align: right;\">\n",
       "      <th></th>\n",
       "      <th>Model(used car)</th>\n",
       "      <th>Km driven</th>\n",
       "      <th>Fuel</th>\n",
       "      <th>year of purchase</th>\n",
       "      <th>Location</th>\n",
       "      <th>Price</th>\n",
       "    </tr>\n",
       "  </thead>\n",
       "  <tbody>\n",
       "    <tr>\n",
       "      <th>Model(used car)</th>\n",
       "      <td>1.000000</td>\n",
       "      <td>-0.016963</td>\n",
       "      <td>-0.288842</td>\n",
       "      <td>0.040026</td>\n",
       "      <td>0.490608</td>\n",
       "      <td>-0.013057</td>\n",
       "    </tr>\n",
       "    <tr>\n",
       "      <th>Km driven</th>\n",
       "      <td>-0.016963</td>\n",
       "      <td>1.000000</td>\n",
       "      <td>-0.051322</td>\n",
       "      <td>-0.643592</td>\n",
       "      <td>0.133977</td>\n",
       "      <td>-0.307969</td>\n",
       "    </tr>\n",
       "    <tr>\n",
       "      <th>Fuel</th>\n",
       "      <td>-0.288842</td>\n",
       "      <td>-0.051322</td>\n",
       "      <td>1.000000</td>\n",
       "      <td>0.309357</td>\n",
       "      <td>-0.495556</td>\n",
       "      <td>-0.251713</td>\n",
       "    </tr>\n",
       "    <tr>\n",
       "      <th>year of purchase</th>\n",
       "      <td>0.040026</td>\n",
       "      <td>-0.643592</td>\n",
       "      <td>0.309357</td>\n",
       "      <td>1.000000</td>\n",
       "      <td>-0.193101</td>\n",
       "      <td>0.059986</td>\n",
       "    </tr>\n",
       "    <tr>\n",
       "      <th>Location</th>\n",
       "      <td>0.490608</td>\n",
       "      <td>0.133977</td>\n",
       "      <td>-0.495556</td>\n",
       "      <td>-0.193101</td>\n",
       "      <td>1.000000</td>\n",
       "      <td>0.007689</td>\n",
       "    </tr>\n",
       "    <tr>\n",
       "      <th>Price</th>\n",
       "      <td>-0.013057</td>\n",
       "      <td>-0.307969</td>\n",
       "      <td>-0.251713</td>\n",
       "      <td>0.059986</td>\n",
       "      <td>0.007689</td>\n",
       "      <td>1.000000</td>\n",
       "    </tr>\n",
       "  </tbody>\n",
       "</table>\n",
       "</div>"
      ],
      "text/plain": [
       "                                                                                   Model(used car)  \\\n",
       "                                 Model(used car)                                          1.000000   \n",
       "       Km driven                                                                         -0.016963   \n",
       "    Fuel                                                                                 -0.288842   \n",
       "   year of purchase                                                                       0.040026   \n",
       "                           Location                                                       0.490608   \n",
       "            Price                                                                        -0.013057   \n",
       "\n",
       "                                                         Km driven      Fuel  \\\n",
       "                                 Model(used car)         -0.016963 -0.288842   \n",
       "       Km driven                                          1.000000 -0.051322   \n",
       "    Fuel                                                 -0.051322  1.000000   \n",
       "   year of purchase                                      -0.643592  0.309357   \n",
       "                           Location                       0.133977 -0.495556   \n",
       "            Price                                        -0.307969 -0.251713   \n",
       "\n",
       "                                                     year of purchase  \\\n",
       "                                 Model(used car)             0.040026   \n",
       "       Km driven                                            -0.643592   \n",
       "    Fuel                                                     0.309357   \n",
       "   year of purchase                                          1.000000   \n",
       "                           Location                         -0.193101   \n",
       "            Price                                            0.059986   \n",
       "\n",
       "                                                                             Location  \\\n",
       "                                 Model(used car)                             0.490608   \n",
       "       Km driven                                                             0.133977   \n",
       "    Fuel                                                                    -0.495556   \n",
       "   year of purchase                                                         -0.193101   \n",
       "                           Location                                          1.000000   \n",
       "            Price                                                            0.007689   \n",
       "\n",
       "                                                              Price  \n",
       "                                 Model(used car)          -0.013057  \n",
       "       Km driven                                          -0.307969  \n",
       "    Fuel                                                  -0.251713  \n",
       "   year of purchase                                        0.059986  \n",
       "                           Location                        0.007689  \n",
       "            Price                                          1.000000  "
      ]
     },
     "execution_count": 21,
     "metadata": {},
     "output_type": "execute_result"
    }
   ],
   "source": [
    "df.corr()"
   ]
  },
  {
   "cell_type": "code",
   "execution_count": 22,
   "id": "bae6ba5f",
   "metadata": {},
   "outputs": [
    {
     "data": {
      "text/plain": [
       "<AxesSubplot:>"
      ]
     },
     "execution_count": 22,
     "metadata": {},
     "output_type": "execute_result"
    },
    {
     "data": {
      "image/png": "[encoded data removed]",
      "text/plain": [
       "<Figure size 1008x1008 with 2 Axes>"
      ]
     },
     "metadata": {
      "needs_background": "light"
     },
     "output_type": "display_data"
    }
   ],
   "source": [
    "#Visualizing the correlation\n",
    "plt.figure(figsize=(14,14))  \n",
    "sns.heatmap(df.corr(), annot=True, fmt='.0%')"
   ]
  },
  {
   "cell_type": "markdown",
   "id": "c4305cb7",
   "metadata": {},
   "source": [
    "From the correlation matrix,we can see that less columns are positively correlated with the target variable 'Price'.We can see that the independent variables are highly correlated with each other,for example,'Model(used car)' is highly correlated with 'Location'."
   ]
  },
  {
   "cell_type": "code",
   "execution_count": 23,
   "id": "2d845668",
   "metadata": {},
   "outputs": [
    {
     "data": {
      "text/plain": [
       "array([[<AxesSubplot:title={'center':'                                 Model(used car)'}>,\n",
       "        <AxesSubplot:title={'center':'       Km driven'}>,\n",
       "        <AxesSubplot:title={'center':'    Fuel'}>,\n",
       "        <AxesSubplot:title={'center':'   year of purchase'}>],\n",
       "       [<AxesSubplot:title={'center':'                           Location'}>,\n",
       "        <AxesSubplot:title={'center':'            Price'}>,\n",
       "        <AxesSubplot:>, <AxesSubplot:>],\n",
       "       [<AxesSubplot:>, <AxesSubplot:>, <AxesSubplot:>, <AxesSubplot:>],\n",
       "       [<AxesSubplot:>, <AxesSubplot:>, <AxesSubplot:>, <AxesSubplot:>]],\n",
       "      dtype=object)"
      ]
     },
     "execution_count": 23,
     "metadata": {},
     "output_type": "execute_result"
    },
    {
     "data": {
      "image/png": "[encoded data removed]",
      "text/plain": [
       "<Figure size 1440x1440 with 16 Axes>"
      ]
     },
     "metadata": {
      "needs_background": "light"
     },
     "output_type": "display_data"
    }
   ],
   "source": [
    "#Plotting histogram\n",
    "#A histogram shows the frequency on the vertical axis and the horizontal axis in another dimension. \n",
    "# In this graph, we can also check whether the graph is right skewed, left skewed or the graph is normally distributed graph\n",
    "df.hist(figsize=(20,20),grid=True,layout=(4,4),bins=30)"
   ]
  },
  {
   "cell_type": "markdown",
   "id": "9733d2ce",
   "metadata": {},
   "source": [
    "Data is almost normally distributed."
   ]
  },
  {
   "cell_type": "code",
   "execution_count": 24,
   "id": "b764fe8c",
   "metadata": {},
   "outputs": [
    {
     "data": {
      "text/plain": [
       "                                 Model(used car)    0.040904\n",
       "       Km driven                                    0.083194\n",
       "    Fuel                                            1.248066\n",
       "   year of purchase                                 0.794666\n",
       "                           Location                 0.081519\n",
       "            Price                                   2.609456\n",
       "dtype: float64"
      ]
     },
     "execution_count": 24,
     "metadata": {},
     "output_type": "execute_result"
    }
   ],
   "source": [
    "df.skew()"
   ]
  },
  {
   "cell_type": "code",
   "execution_count": 25,
   "id": "4a6f9f0b",
   "metadata": {},
   "outputs": [
    {
     "data": {
      "text/plain": [
       "                                 Model(used car)       AxesSubplot(0.125,0.71587;0.133621x0.16413)\n",
       "       Km driven                                    AxesSubplot(0.285345,0.71587;0.133621x0.16413)\n",
       "    Fuel                                             AxesSubplot(0.44569,0.71587;0.133621x0.16413)\n",
       "   year of purchase                                 AxesSubplot(0.606034,0.71587;0.133621x0.16413)\n",
       "                           Location                 AxesSubplot(0.766379,0.71587;0.133621x0.16413)\n",
       "            Price                                     AxesSubplot(0.125,0.518913;0.133621x0.16413)\n",
       "dtype: object"
      ]
     },
     "execution_count": 25,
     "metadata": {},
     "output_type": "execute_result"
    },
    {
     "data": {
      "image/png": "[encoded data removed]",
      "text/plain": [
       "<Figure size 1080x720 with 20 Axes>"
      ]
     },
     "metadata": {
      "needs_background": "light"
     },
     "output_type": "display_data"
    }
   ],
   "source": [
    "#Checking outliers using boxplots\n",
    "df.plot(kind='box',subplots=True,layout=(4,5),figsize=(15,10))"
   ]
  },
  {
   "cell_type": "markdown",
   "id": "523031e1",
   "metadata": {},
   "source": [
    "From the boxplots,it is clearly seen that no such outliers are present,so I will not go for outlier removal."
   ]
  },
  {
   "cell_type": "code",
   "execution_count": 26,
   "id": "83f568a3",
   "metadata": {},
   "outputs": [],
   "source": [
    "#Splitting the independent and target variable in x and y\n",
    "x=df.drop('            Price',axis=1)\n",
    "y=df['            Price']"
   ]
  },
  {
   "cell_type": "code",
   "execution_count": 27,
   "id": "47ab6672",
   "metadata": {},
   "outputs": [],
   "source": [
    "#Using StandardScaler to scale the data \n",
    "from sklearn.preprocessing import StandardScaler\n",
    "scale=StandardScaler()\n",
    "x=scale.fit_transform(x)"
   ]
  },
  {
   "cell_type": "code",
   "execution_count": 28,
   "id": "17ed2c9c",
   "metadata": {
    "scrolled": false
   },
   "outputs": [
    {
     "name": "stdout",
     "output_type": "stream",
     "text": [
      "r2 score correspond to random state 40 is -0.25833004884724353\n",
      "r2 score correspond to random state 40 is 0.12146506691214565\n",
      "r2 score correspond to random state 40 is 0.8708628894766461\n",
      "r2 score correspond to random state 40 is 0.2300177089790022\n",
      "r2 score correspond to random state 40 is -0.1530204110934732\n",
      "r2 score correspond to random state 41 is 0.9367540156230798\n",
      "r2 score correspond to random state 41 is 0.0013612284247461748\n",
      "r2 score correspond to random state 41 is 0.4241402629160599\n",
      "r2 score correspond to random state 41 is -0.06108916956640664\n",
      "r2 score correspond to random state 41 is 0.5735464160612835\n",
      "r2 score correspond to random state 42 is -8.622713843318122\n",
      "r2 score correspond to random state 42 is -1.0408987565889496\n",
      "r2 score correspond to random state 42 is -5.3686477224719935\n",
      "r2 score correspond to random state 42 is -2.227426419999539\n",
      "r2 score correspond to random state 42 is -6.471914602388298\n",
      "r2 score correspond to random state 43 is -0.2860113189263669\n",
      "r2 score correspond to random state 43 is 0.05261265122305914\n",
      "r2 score correspond to random state 43 is 0.150567767737673\n",
      "r2 score correspond to random state 43 is 0.13311763708769986\n",
      "r2 score correspond to random state 43 is -0.44790566960993794\n",
      "r2 score correspond to random state 44 is 0.12893684669349048\n",
      "r2 score correspond to random state 44 is 0.004223209697778785\n",
      "r2 score correspond to random state 44 is 0.23051139471979043\n",
      "r2 score correspond to random state 44 is -0.030802907316243466\n",
      "r2 score correspond to random state 44 is 0.48577213160893684\n",
      "r2 score correspond to random state 45 is -0.28270269365544665\n",
      "r2 score correspond to random state 45 is -0.9254151194114428\n",
      "r2 score correspond to random state 45 is -0.07630325049669895\n",
      "r2 score correspond to random state 45 is -0.5659710419682782\n",
      "r2 score correspond to random state 45 is -0.10642089673517208\n",
      "r2 score correspond to random state 46 is -100.10387408693623\n",
      "r2 score correspond to random state 46 is -26.15492487854198\n",
      "r2 score correspond to random state 46 is -81.1980631315274\n",
      "r2 score correspond to random state 46 is -60.61011903051465\n",
      "r2 score correspond to random state 46 is -106.36780976141908\n",
      "r2 score correspond to random state 47 is -3.453027989880084\n",
      "r2 score correspond to random state 47 is -0.21626559532237266\n",
      "r2 score correspond to random state 47 is -0.8000360134512767\n",
      "r2 score correspond to random state 47 is -0.8958203572985022\n",
      "r2 score correspond to random state 47 is -3.304231681408723\n",
      "r2 score correspond to random state 48 is -64.55534521298195\n",
      "r2 score correspond to random state 48 is -45.33444096056959\n",
      "r2 score correspond to random state 48 is -63.607605133399005\n",
      "r2 score correspond to random state 48 is -46.06853303070351\n",
      "r2 score correspond to random state 48 is -62.890937044505534\n",
      "r2 score correspond to random state 49 is -0.9490410328534327\n",
      "r2 score correspond to random state 49 is 0.03905165960301504\n",
      "r2 score correspond to random state 49 is 0.5004675718393026\n",
      "r2 score correspond to random state 49 is 0.11749176834059705\n",
      "r2 score correspond to random state 49 is -0.10244611649850688\n",
      "r2 score correspond to random state 50 is -1.396319074678265\n",
      "r2 score correspond to random state 50 is -0.0811529044191106\n",
      "r2 score correspond to random state 50 is -0.44223640574153245\n",
      "r2 score correspond to random state 50 is -0.05368713150169868\n",
      "r2 score correspond to random state 50 is -1.205945055459702\n",
      "r2 score correspond to random state 51 is 0.22835579021779373\n",
      "r2 score correspond to random state 51 is -0.2437736051190631\n",
      "r2 score correspond to random state 51 is -0.20271053194478172\n",
      "r2 score correspond to random state 51 is 0.09476675768753595\n",
      "r2 score correspond to random state 51 is 0.2955454974354653\n",
      "r2 score correspond to random state 52 is -2.85569446113083\n",
      "r2 score correspond to random state 52 is -0.7226137885097053\n",
      "r2 score correspond to random state 52 is -2.667252476490833\n",
      "r2 score correspond to random state 52 is -0.4813358534606256\n",
      "r2 score correspond to random state 52 is -3.1544057244280603\n",
      "r2 score correspond to random state 53 is -0.9794571903369615\n",
      "r2 score correspond to random state 53 is -0.41384380498520623\n",
      "r2 score correspond to random state 53 is 0.014602735720715798\n",
      "r2 score correspond to random state 53 is -0.3463838406063231\n",
      "r2 score correspond to random state 53 is -0.5340767568169382\n",
      "r2 score correspond to random state 54 is -1.1414049894246774\n",
      "r2 score correspond to random state 54 is 0.17099083625874834\n",
      "r2 score correspond to random state 54 is 0.28635071804415535\n",
      "r2 score correspond to random state 54 is 0.1419444380886793\n",
      "r2 score correspond to random state 54 is 0.2868583115246881\n",
      "r2 score correspond to random state 55 is -1.8497894893835571\n",
      "r2 score correspond to random state 55 is -0.07929606045912063\n",
      "r2 score correspond to random state 55 is -1.8408782789255285\n",
      "r2 score correspond to random state 55 is -0.49431026462970884\n",
      "r2 score correspond to random state 55 is -2.007456092035173\n",
      "r2 score correspond to random state 56 is -0.7666448702342419\n",
      "r2 score correspond to random state 56 is -0.2627283427789282\n",
      "r2 score correspond to random state 56 is -0.6525166291460489\n",
      "r2 score correspond to random state 56 is -0.24083276628999073\n",
      "r2 score correspond to random state 56 is -0.6333676662347587\n",
      "r2 score correspond to random state 57 is -79.97294921991228\n",
      "r2 score correspond to random state 57 is -28.217389381617473\n",
      "r2 score correspond to random state 57 is -75.88094887005448\n",
      "r2 score correspond to random state 57 is -194.14089516126495\n",
      "r2 score correspond to random state 57 is -88.57179546165048\n",
      "r2 score correspond to random state 58 is 0.9187173115473373\n",
      "r2 score correspond to random state 58 is -0.25705121883721804\n",
      "r2 score correspond to random state 58 is 0.45816576507816464\n",
      "r2 score correspond to random state 58 is -0.16324236203315134\n",
      "r2 score correspond to random state 58 is 0.8488483451189317\n",
      "r2 score correspond to random state 59 is -0.7795884460737024\n",
      "r2 score correspond to random state 59 is -0.2908333658518638\n",
      "r2 score correspond to random state 59 is -0.7198452691211514\n",
      "r2 score correspond to random state 59 is -0.18498589872462623\n",
      "r2 score correspond to random state 59 is -0.6789792868671964\n",
      "r2 score correspond to random state 60 is 0.9227765837512578\n",
      "r2 score correspond to random state 60 is -0.38438715176453364\n",
      "r2 score correspond to random state 60 is 0.9720954187510881\n",
      "r2 score correspond to random state 60 is 0.1359191488571836\n",
      "r2 score correspond to random state 60 is 0.7956148090735216\n",
      "r2 score correspond to random state 61 is -0.9828012099000059\n",
      "r2 score correspond to random state 61 is -1.8375063498362958\n",
      "r2 score correspond to random state 61 is -0.01712346340800508\n",
      "r2 score correspond to random state 61 is -1.4117269989505647\n",
      "r2 score correspond to random state 61 is -0.8294491106284367\n",
      "r2 score correspond to random state 62 is 0.9808059598205839\n",
      "r2 score correspond to random state 62 is -0.15481481046313816\n",
      "r2 score correspond to random state 62 is -0.09785165179821198\n",
      "r2 score correspond to random state 62 is 0.07056051247707906\n",
      "r2 score correspond to random state 62 is 0.4382461685898702\n",
      "r2 score correspond to random state 63 is -1.5317468510004661\n",
      "r2 score correspond to random state 63 is 0.29725989403640773\n",
      "r2 score correspond to random state 63 is 0.9233679582331978\n",
      "r2 score correspond to random state 63 is 0.21014329929113862\n",
      "r2 score correspond to random state 63 is -1.3216303869154924\n",
      "r2 score correspond to random state 64 is 0.4458844309665144\n",
      "r2 score correspond to random state 64 is -0.11547268543337985\n",
      "r2 score correspond to random state 64 is 0.4473948183488896\n",
      "r2 score correspond to random state 64 is -0.11656106067831828\n",
      "r2 score correspond to random state 64 is 0.507708667259509\n",
      "r2 score correspond to random state 65 is -0.25119492776614627\n",
      "r2 score correspond to random state 65 is -0.0878079624246706\n",
      "r2 score correspond to random state 65 is 0.5322901354903957\n",
      "r2 score correspond to random state 65 is 0.059067541425696035\n",
      "r2 score correspond to random state 65 is -0.07077553370767453\n",
      "r2 score correspond to random state 66 is 0.4844160313611491\n",
      "r2 score correspond to random state 66 is 0.2072923562851039\n",
      "r2 score correspond to random state 66 is 0.4208138798943404\n",
      "r2 score correspond to random state 66 is 0.025630388569428675\n",
      "r2 score correspond to random state 66 is 0.4631280088097862\n",
      "r2 score correspond to random state 67 is -0.4962291824499474\n",
      "r2 score correspond to random state 67 is -33.88470447431466\n",
      "r2 score correspond to random state 67 is -17.356524257802796\n",
      "r2 score correspond to random state 67 is -8.6979769273131\n",
      "r2 score correspond to random state 67 is -5.423431996502817\n",
      "r2 score correspond to random state 68 is -0.6240188564477196\n",
      "r2 score correspond to random state 68 is -1.1158807307127274\n",
      "r2 score correspond to random state 68 is -0.03635857613728222\n",
      "r2 score correspond to random state 68 is -1.609270299414994\n",
      "r2 score correspond to random state 68 is -0.3324108070116836\n",
      "r2 score correspond to random state 69 is -1.1699290128969602\n",
      "r2 score correspond to random state 69 is 0.03657704243311488\n",
      "r2 score correspond to random state 69 is -0.2064425990561809\n",
      "r2 score correspond to random state 69 is -0.007967359741009483\n",
      "r2 score correspond to random state 69 is -0.6179121456056047\n",
      "r2 score correspond to random state 70 is 0.18590876268589684\n",
      "r2 score correspond to random state 70 is -0.020315117345922395\n",
      "r2 score correspond to random state 70 is 0.9048717705314251\n",
      "r2 score correspond to random state 70 is 0.015383140591014866\n",
      "r2 score correspond to random state 70 is 0.5116070598357848\n",
      "r2 score correspond to random state 71 is 0.6490033264788693\n",
      "r2 score correspond to random state 71 is -0.027150516562433058\n",
      "r2 score correspond to random state 71 is 0.610638029343896\n",
      "r2 score correspond to random state 71 is -0.03590388101686259\n",
      "r2 score correspond to random state 71 is 0.7041850327224872\n",
      "r2 score correspond to random state 72 is 0.7453122475887092\n",
      "r2 score correspond to random state 72 is -0.36717457126955133\n",
      "r2 score correspond to random state 72 is 0.9460668010975402\n",
      "r2 score correspond to random state 72 is 0.04529305120223748\n",
      "r2 score correspond to random state 72 is 0.8756749214297916\n",
      "r2 score correspond to random state 73 is 0.9367808961757059\n",
      "r2 score correspond to random state 73 is 0.0148250326516004\n",
      "r2 score correspond to random state 73 is -0.6747399641116891\n",
      "r2 score correspond to random state 73 is 0.1278687592745511\n",
      "r2 score correspond to random state 73 is 0.8537354234248249\n",
      "r2 score correspond to random state 74 is -17.3560570488983\n",
      "r2 score correspond to random state 74 is -33.63891544276596\n",
      "r2 score correspond to random state 74 is -17.302168224869867\n",
      "r2 score correspond to random state 74 is -29.423366945057083\n",
      "r2 score correspond to random state 74 is -7.863842368026829\n",
      "r2 score correspond to random state 75 is -0.10917295340105415\n",
      "r2 score correspond to random state 75 is 0.08842812203098305\n",
      "r2 score correspond to random state 75 is 0.5356518095008734\n",
      "r2 score correspond to random state 75 is 0.0718426240952702\n",
      "r2 score correspond to random state 75 is 0.49553008888726613\n",
      "r2 score correspond to random state 76 is -80.01483966767154\n",
      "r2 score correspond to random state 76 is -25.867904234693174\n",
      "r2 score correspond to random state 76 is -58.4155532486545\n",
      "r2 score correspond to random state 76 is -29.67682086615577\n",
      "r2 score correspond to random state 76 is -77.74590230345738\n",
      "r2 score correspond to random state 77 is 0.9588947723141658\n",
      "r2 score correspond to random state 77 is -0.15101750983301443\n",
      "r2 score correspond to random state 77 is 0.3557308950482304\n",
      "r2 score correspond to random state 77 is -0.022223647128891022\n",
      "r2 score correspond to random state 77 is 0.833668910120919\n",
      "r2 score correspond to random state 78 is -0.8772679127900858\n",
      "r2 score correspond to random state 78 is -0.634524610119104\n",
      "r2 score correspond to random state 78 is -0.8768675763818949\n",
      "r2 score correspond to random state 78 is -0.8392461412458792\n",
      "r2 score correspond to random state 78 is -0.8398813423034324\n",
      "r2 score correspond to random state 79 is 0.5520917035642897\n",
      "r2 score correspond to random state 79 is -0.11908504561828948\n",
      "r2 score correspond to random state 79 is 0.5713037330677462\n",
      "r2 score correspond to random state 79 is -0.14910151408805494\n",
      "r2 score correspond to random state 79 is 0.5100922130429821\n",
      "r2 score correspond to random state 80 is -1.0836729500378106\n",
      "r2 score correspond to random state 80 is -0.06655043127200533\n",
      "r2 score correspond to random state 80 is -1.1089142481495124\n",
      "r2 score correspond to random state 80 is -0.05770703302562552\n",
      "r2 score correspond to random state 80 is -0.4434168381617447\n",
      "r2 score correspond to random state 81 is -2.0154784302632183\n",
      "r2 score correspond to random state 81 is 0.003040994403409547\n",
      "r2 score correspond to random state 81 is -0.9076279167813734\n",
      "r2 score correspond to random state 81 is -0.1038900601249253\n",
      "r2 score correspond to random state 81 is -1.261218905439215\n",
      "r2 score correspond to random state 82 is -2.1367962529731255\n",
      "r2 score correspond to random state 82 is -0.02847129874670573\n",
      "r2 score correspond to random state 82 is 0.12922851234314459\n",
      "r2 score correspond to random state 82 is 0.060153430457933865\n",
      "r2 score correspond to random state 82 is -1.4617460150131603\n",
      "r2 score correspond to random state 83 is -1.487179207902137\n",
      "r2 score correspond to random state 83 is 0.04495996584831341\n",
      "r2 score correspond to random state 83 is 0.8742115114930306\n",
      "r2 score correspond to random state 83 is 0.10310993608244179\n",
      "r2 score correspond to random state 83 is -1.389411461469301\n",
      "r2 score correspond to random state 84 is 0.23821313949066314\n",
      "r2 score correspond to random state 84 is -0.19508047123486483\n",
      "r2 score correspond to random state 84 is -0.24694342625703714\n",
      "r2 score correspond to random state 84 is 0.08816937443998385\n",
      "r2 score correspond to random state 84 is 0.46949703470898185\n",
      "r2 score correspond to random state 85 is -1.3614547639840304\n",
      "r2 score correspond to random state 85 is -0.3417505348641712\n",
      "r2 score correspond to random state 85 is -0.28980627763060474\n",
      "r2 score correspond to random state 85 is -0.03686882767566524\n",
      "r2 score correspond to random state 85 is -0.7974738473170309\n",
      "r2 score correspond to random state 86 is -0.9620548857343509\n",
      "r2 score correspond to random state 86 is -25.348126871072008\n",
      "r2 score correspond to random state 86 is -0.464795250276377\n",
      "r2 score correspond to random state 86 is -11.354636102188868\n",
      "r2 score correspond to random state 86 is -0.5081868386216837\n",
      "r2 score correspond to random state 87 is -0.43962608411750215\n",
      "r2 score correspond to random state 87 is -0.02345468206870538\n",
      "r2 score correspond to random state 87 is 0.20729714136469812\n",
      "r2 score correspond to random state 87 is -0.07266077192139941\n",
      "r2 score correspond to random state 87 is -0.29127180923158424\n",
      "r2 score correspond to random state 88 is -0.5798910642983619\n",
      "r2 score correspond to random state 88 is -0.17815145239178598\n",
      "r2 score correspond to random state 88 is -0.6222968427487434\n",
      "r2 score correspond to random state 88 is -0.17146405918640006\n",
      "r2 score correspond to random state 88 is -0.5668383384854088\n",
      "r2 score correspond to random state 89 is -35.55973213479597\n",
      "r2 score correspond to random state 89 is -75.10340668523762\n",
      "r2 score correspond to random state 89 is -85.43545313892409\n",
      "r2 score correspond to random state 89 is -47.3083049064262\n",
      "r2 score correspond to random state 89 is -40.42068308450385\n",
      "\n",
      "\n",
      "\n",
      "\n",
      "max r2 score correspond to random state 62 is 0.9808059598205839 and model is DecisionTreeRegressor()\n"
     ]
    }
   ],
   "source": [
    "#Model Building(Finding the best random state)\n",
    "\n",
    "model=[DecisionTreeRegressor(),KNeighborsRegressor(),AdaBoostRegressor(),LinearRegression(),GradientBoostingRegressor()]\n",
    "max_r2_score=0\n",
    "for r_state in range(40,90):\n",
    "    train_x,test_x,train_y,test_y=train_test_split(x,y,random_state=r_state,test_size=0.33)\n",
    "    for i in model:\n",
    "        i.fit(train_x,train_y)\n",
    "        pre=i.predict(test_x)\n",
    "        r2_sc=r2_score(test_y,pre)\n",
    "        print('r2 score correspond to random state',r_state,'is',r2_sc)\n",
    "        if r2_sc>max_r2_score:\n",
    "            max_r2_score=r2_sc\n",
    "            final_state=r_state\n",
    "            final_model=i\n",
    "print()\n",
    "print()\n",
    "print()\n",
    "print()\n",
    "print('max r2 score correspond to random state',final_state,'is',max_r2_score,'and model is',final_model)"
   ]
  },
  {
   "cell_type": "markdown",
   "id": "a3e80177",
   "metadata": {},
   "source": [
    "Above I am using for loop which helps me to provide the r2 score at each random state and for the best state where r2 score is maximum has come as output value.\n",
    "\n",
    "The best model is AdaBoostRegressor and the r2 score is 98% to random state 60."
   ]
  },
  {
   "cell_type": "code",
   "execution_count": 29,
   "id": "a96d741f",
   "metadata": {},
   "outputs": [],
   "source": [
    "train_x,test_x,train_y,test_y=train_test_split(x,y,random_state=60,test_size=0.33)"
   ]
  },
  {
   "cell_type": "code",
   "execution_count": 30,
   "id": "6d702d84",
   "metadata": {},
   "outputs": [
    {
     "data": {
      "text/plain": [
       "AdaBoostRegressor()"
      ]
     },
     "execution_count": 30,
     "metadata": {},
     "output_type": "execute_result"
    }
   ],
   "source": [
    "from sklearn.ensemble import AdaBoostRegressor\n",
    "ab=AdaBoostRegressor()\n",
    "ab.fit(train_x,train_y)"
   ]
  },
  {
   "cell_type": "code",
   "execution_count": 31,
   "id": "2f122d11",
   "metadata": {},
   "outputs": [],
   "source": [
    "y_pred=ab.predict(test_x)"
   ]
  },
  {
   "cell_type": "code",
   "execution_count": 32,
   "id": "2ea95f5e",
   "metadata": {},
   "outputs": [
    {
     "data": {
      "text/plain": [
       "0.9866563864758254"
      ]
     },
     "execution_count": 32,
     "metadata": {},
     "output_type": "execute_result"
    }
   ],
   "source": [
    "ab.score(train_x,train_y)"
   ]
  },
  {
   "cell_type": "code",
   "execution_count": 33,
   "id": "781e9fd3",
   "metadata": {},
   "outputs": [
    {
     "data": {
      "text/plain": [
       "0.9804305178781222"
      ]
     },
     "execution_count": 33,
     "metadata": {},
     "output_type": "execute_result"
    }
   ],
   "source": [
    "ab.score(test_x,test_y)"
   ]
  },
  {
   "cell_type": "code",
   "execution_count": 34,
   "id": "f41c0083",
   "metadata": {},
   "outputs": [
    {
     "data": {
      "image/png": "[encoded data removed]",
      "text/plain": [
       "<Figure size 432x288 with 1 Axes>"
      ]
     },
     "metadata": {
      "needs_background": "light"
     },
     "output_type": "display_data"
    }
   ],
   "source": [
    "#Distribution plot\n",
    "sns.distplot(test_y-y_pred)\n",
    "plt.show()"
   ]
  },
  {
   "cell_type": "code",
   "execution_count": 35,
   "id": "102e3d3c",
   "metadata": {},
   "outputs": [
    {
     "data": {
      "image/png": "[encoded data removed]",
      "text/plain": [
       "<Figure size 432x288 with 1 Axes>"
      ]
     },
     "metadata": {
      "needs_background": "light"
     },
     "output_type": "display_data"
    }
   ],
   "source": [
    "#Scatter-plot\n",
    "plt.scatter(test_y, y_pred, alpha = 0.5)\n",
    "plt.xlabel(\"test_y\")\n",
    "plt.ylabel(\"y_pred\")\n",
    "plt.show()"
   ]
  },
  {
   "cell_type": "code",
   "execution_count": 36,
   "id": "6a820f25",
   "metadata": {},
   "outputs": [
    {
     "name": "stdout",
     "output_type": "stream",
     "text": [
      "Mean Absolute Error: 63507.619658119664\n",
      "Mean Squared Error: 11239918206.920467\n",
      "Root Mean Absolute Error: 252.0071817590119\n"
     ]
    }
   ],
   "source": [
    "from sklearn.metrics import mean_absolute_error\n",
    "print('Mean Absolute Error:',mean_absolute_error(test_y,y_pred))\n",
    "print('Mean Squared Error:',mean_squared_error(test_y,y_pred))\n",
    "print('Root Mean Absolute Error:',np.sqrt(mean_absolute_error(test_y,y_pred)))"
   ]
  },
  {
   "cell_type": "code",
   "execution_count": 37,
   "id": "5160a1f3",
   "metadata": {},
   "outputs": [],
   "source": [
    "#Hyperparameter tuning using RandomizedSearchCV\n",
    "from sklearn.model_selection import RandomizedSearchCV"
   ]
  },
  {
   "cell_type": "code",
   "execution_count": 38,
   "id": "d76fc7c4",
   "metadata": {},
   "outputs": [],
   "source": [
    "#List of parameters to pass\n",
    "n_estimators = [10,50,100]\n",
    "loss=['linear','square','exponential']\n",
    "#max_features = ['auto', 'sqrt']\n",
    "#max_depth = [2, 3, 5]\n",
    "#min_samples_split = [2, 4, 6]\n",
    "#min_samples_leaf = [1, 2, 4, 6]\n",
    "learning_rate=[0.1]"
   ]
  },
  {
   "cell_type": "code",
   "execution_count": 39,
   "id": "6dc05f69",
   "metadata": {},
   "outputs": [],
   "source": [
    "#Creating random grid\n",
    "\n",
    "random_grid = {'n_estimators': n_estimators,\n",
    "               'loss':loss,\n",
    "               'learning_rate':learning_rate}"
   ]
  },
  {
   "cell_type": "code",
   "execution_count": 42,
   "id": "d0be37dc",
   "metadata": {},
   "outputs": [],
   "source": [
    "# Random search of parameters, using 5 fold cross validation, \n",
    "# search across 100 different combinations\n",
    "ab_random = RandomizedSearchCV(estimator = ab, param_distributions = random_grid,scoring='neg_mean_squared_error', n_iter = 10, cv = 5, verbose=2, random_state=60, n_jobs = 1)"
   ]
  },
  {
   "cell_type": "code",
   "execution_count": 43,
   "id": "658f83ef",
   "metadata": {},
   "outputs": [
    {
     "name": "stdout",
     "output_type": "stream",
     "text": [
      "Fitting 5 folds for each of 9 candidates, totalling 45 fits\n",
      "[CV] END ....learning_rate=0.1, loss=linear, n_estimators=10; total time=   0.0s\n",
      "[CV] END ....learning_rate=0.1, loss=linear, n_estimators=10; total time=   0.0s\n",
      "[CV] END ....learning_rate=0.1, loss=linear, n_estimators=10; total time=   0.0s\n",
      "[CV] END ....learning_rate=0.1, loss=linear, n_estimators=10; total time=   0.0s\n",
      "[CV] END ....learning_rate=0.1, loss=linear, n_estimators=10; total time=   0.0s\n",
      "[CV] END ....learning_rate=0.1, loss=linear, n_estimators=50; total time=   0.0s\n",
      "[CV] END ....learning_rate=0.1, loss=linear, n_estimators=50; total time=   0.0s\n",
      "[CV] END ....learning_rate=0.1, loss=linear, n_estimators=50; total time=   0.0s\n",
      "[CV] END ....learning_rate=0.1, loss=linear, n_estimators=50; total time=   0.0s\n",
      "[CV] END ....learning_rate=0.1, loss=linear, n_estimators=50; total time=   0.0s\n",
      "[CV] END ...learning_rate=0.1, loss=linear, n_estimators=100; total time=   0.1s\n",
      "[CV] END ...learning_rate=0.1, loss=linear, n_estimators=100; total time=   0.1s\n",
      "[CV] END ...learning_rate=0.1, loss=linear, n_estimators=100; total time=   0.2s\n",
      "[CV] END ...learning_rate=0.1, loss=linear, n_estimators=100; total time=   0.1s\n",
      "[CV] END ...learning_rate=0.1, loss=linear, n_estimators=100; total time=   0.2s\n",
      "[CV] END ....learning_rate=0.1, loss=square, n_estimators=10; total time=   0.0s\n",
      "[CV] END ....learning_rate=0.1, loss=square, n_estimators=10; total time=   0.0s\n",
      "[CV] END ....learning_rate=0.1, loss=square, n_estimators=10; total time=   0.0s\n",
      "[CV] END ....learning_rate=0.1, loss=square, n_estimators=10; total time=   0.0s\n",
      "[CV] END ....learning_rate=0.1, loss=square, n_estimators=10; total time=   0.0s\n",
      "[CV] END ....learning_rate=0.1, loss=square, n_estimators=50; total time=   0.0s\n",
      "[CV] END ....learning_rate=0.1, loss=square, n_estimators=50; total time=   0.0s\n",
      "[CV] END ....learning_rate=0.1, loss=square, n_estimators=50; total time=   0.0s\n",
      "[CV] END ....learning_rate=0.1, loss=square, n_estimators=50; total time=   0.0s\n",
      "[CV] END ....learning_rate=0.1, loss=square, n_estimators=50; total time=   0.0s\n",
      "[CV] END ...learning_rate=0.1, loss=square, n_estimators=100; total time=   0.1s\n",
      "[CV] END ...learning_rate=0.1, loss=square, n_estimators=100; total time=   0.1s\n",
      "[CV] END ...learning_rate=0.1, loss=square, n_estimators=100; total time=   0.1s\n",
      "[CV] END ...learning_rate=0.1, loss=square, n_estimators=100; total time=   0.1s\n",
      "[CV] END ...learning_rate=0.1, loss=square, n_estimators=100; total time=   0.1s\n",
      "[CV] END learning_rate=0.1, loss=exponential, n_estimators=10; total time=   0.0s\n",
      "[CV] END learning_rate=0.1, loss=exponential, n_estimators=10; total time=   0.0s\n",
      "[CV] END learning_rate=0.1, loss=exponential, n_estimators=10; total time=   0.0s\n",
      "[CV] END learning_rate=0.1, loss=exponential, n_estimators=10; total time=   0.0s\n",
      "[CV] END learning_rate=0.1, loss=exponential, n_estimators=10; total time=   0.0s\n",
      "[CV] END learning_rate=0.1, loss=exponential, n_estimators=50; total time=   0.0s\n",
      "[CV] END learning_rate=0.1, loss=exponential, n_estimators=50; total time=   0.0s\n",
      "[CV] END learning_rate=0.1, loss=exponential, n_estimators=50; total time=   0.0s\n",
      "[CV] END learning_rate=0.1, loss=exponential, n_estimators=50; total time=   0.0s\n",
      "[CV] END learning_rate=0.1, loss=exponential, n_estimators=50; total time=   0.0s\n",
      "[CV] END learning_rate=0.1, loss=exponential, n_estimators=100; total time=   0.1s\n",
      "[CV] END learning_rate=0.1, loss=exponential, n_estimators=100; total time=   0.1s\n",
      "[CV] END learning_rate=0.1, loss=exponential, n_estimators=100; total time=   0.1s\n",
      "[CV] END learning_rate=0.1, loss=exponential, n_estimators=100; total time=   0.1s\n",
      "[CV] END learning_rate=0.1, loss=exponential, n_estimators=100; total time=   0.1s\n"
     ]
    },
    {
     "data": {
      "text/plain": [
       "RandomizedSearchCV(cv=5, estimator=AdaBoostRegressor(), n_jobs=1,\n",
       "                   param_distributions={'learning_rate': [0.1],\n",
       "                                        'loss': ['linear', 'square',\n",
       "                                                 'exponential'],\n",
       "                                        'n_estimators': [10, 50, 100]},\n",
       "                   random_state=60, scoring='neg_mean_squared_error',\n",
       "                   verbose=2)"
      ]
     },
     "execution_count": 43,
     "metadata": {},
     "output_type": "execute_result"
    }
   ],
   "source": [
    "ab_random.fit(train_x,train_y)"
   ]
  },
  {
   "cell_type": "code",
   "execution_count": 44,
   "id": "6efaba17",
   "metadata": {},
   "outputs": [
    {
     "data": {
      "text/plain": [
       "{'n_estimators': 10, 'loss': 'square', 'learning_rate': 0.1}"
      ]
     },
     "execution_count": 44,
     "metadata": {},
     "output_type": "execute_result"
    }
   ],
   "source": [
    "ab_random.best_params_"
   ]
  },
  {
   "cell_type": "code",
   "execution_count": 45,
   "id": "a0766e58",
   "metadata": {},
   "outputs": [
    {
     "name": "stdout",
     "output_type": "stream",
     "text": [
      "R2 score: 98.64978816461054\n"
     ]
    }
   ],
   "source": [
    "ab=AdaBoostRegressor(n_estimators=50,loss='exponential',learning_rate=0.1)\n",
    "ab.fit(train_x,train_y)\n",
    "ab.score(train_x,train_y)\n",
    "pred=ab.predict(test_x)\n",
    "abr=r2_score(test_y,pred)\n",
    "print('R2 score:',abr*100)"
   ]
  },
  {
   "cell_type": "markdown",
   "id": "834cf0d6",
   "metadata": {},
   "source": [
    "The accuracy obtained using AdaBoostRegressor is 99%."
   ]
  },
  {
   "cell_type": "code",
   "execution_count": null,
   "id": "eddb0e39",
   "metadata": {},
   "outputs": [],
   "source": []
  }
 ],
 "metadata": {
  "kernelspec": {
   "display_name": "Python 3",
   "language": "python",
   "name": "python3"
  },
  "language_info": {
   "codemirror_mode": {
    "name": "ipython",
    "version": 3
   },
   "file_extension": ".py",
   "mimetype": "text/x-python",
   "name": "python",
   "nbconvert_exporter": "python",
   "pygments_lexer": "ipython3",
   "version": "3.8.8"
  }
 },
 "nbformat": 4,
 "nbformat_minor": 5
}
